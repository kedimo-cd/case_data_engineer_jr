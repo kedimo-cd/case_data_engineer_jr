{
 "cells": [
  {
   "cell_type": "code",
   "execution_count": null,
   "id": "d9373310-e676-4dae-a7ef-7053d237c81c",
   "metadata": {},
   "outputs": [],
   "source": []
  },
  {
   "cell_type": "markdown",
   "id": "e0d1ffc3-5e67-42e1-8ece-b6323ba994ad",
   "metadata": {},
   "source": [
    "# ANALISE DE DADOS\n",
    "\n",
    " > Neste primeiro momento vamos procurar compreender e verificar como os dados estão estruturados. Verifcaremos a integridade e consistência dos dados. É necessário que, os dados entreguem de fato as informações pelas quais foram estruturados para fornecer. Por isso, é preciso que não haja registros duplicados, ausentes ou com informações que não condizem com a realidade e a regra de negocio da empresa.\n",
    "\n",
    ">Nosso objetivo é explorar estes dados para que futuramente possamos analisar e gerar Insghts valiosos para a tomada de decisão."
   ]
  },
  {
   "cell_type": "markdown",
   "id": "7777c43d-9f6e-4f7f-83ec-d5b6ab3eb37d",
   "metadata": {},
   "source": [
    "# 1.0 # Analise de Dados\n",
    ">## ETAPA 1 "
   ]
  },
  {
   "cell_type": "markdown",
   "id": "a83c9c78-5685-4855-837b-2439a9f67e84",
   "metadata": {},
   "source": [
    "## 1.0.1 ANALISE EXPLORATÓRIA DE DADOS\n",
    "\n",
    ">>### Visualização e Compreensão\n",
    "\n",
    ">>* Vamos visualisar e compreender a organização dos dados atraves ddo formato tabela utilizando a biblioteca pandas\n",
    ">>* Entenderemos os tipos de cada coluna\n",
    ">>* Vamos checar a existência de valores inexistentes e também se há registros duplicados"
   ]
  },
  {
   "cell_type": "code",
   "execution_count": 78,
   "id": "98271a74-a1e7-462f-b90c-eb59e0659c79",
   "metadata": {},
   "outputs": [
    {
     "name": "stdout",
     "output_type": "stream",
     "text": [
      "Requirement already satisfied: pymysql in c:\\users\\kedim\\anaconda3\\lib\\site-packages (1.1.0)\n",
      "Requirement already satisfied: sqlalchemy in c:\\users\\kedim\\anaconda3\\lib\\site-packages (2.0.25)\n",
      "Requirement already satisfied: typing-extensions>=4.6.0 in c:\\users\\kedim\\anaconda3\\lib\\site-packages (from sqlalchemy) (4.9.0)\n",
      "Requirement already satisfied: greenlet!=0.4.17 in c:\\users\\kedim\\anaconda3\\lib\\site-packages (from sqlalchemy) (3.0.1)\n"
     ]
    }
   ],
   "source": [
    "#Para este projeto será considerado como boa prática realizar todas importações na mesma celula de script logo no inicio\n",
    "#Afim de facilitar revisões e capazes correções futuras\n",
    "\n",
    "#Carregando Bibliotecas que nos auxiliarão nas visulizaçãos durante as analises\n",
    "import matplotlib.pyplot as plt\n",
    "import seaborn as sns\n",
    "\n",
    "#Iremos excluir mensagens de warning para os gráficos, por hora não sera considerado necessário\n",
    "import warnings\n",
    "warnings.filterwarnings(\"ignore\")\n",
    "\n",
    "#Esta será utilizada para analisar nossa tabela\n",
    "import pandas as pd\n",
    "\n",
    "# Instalando biblioteca que sera utilizada na etapa 4\n",
    "!pip install pymysql sqlalchemy\n",
    "\n",
    "# realizando import para conxexão no banco de dados\n",
    "from sqlalchemy import create_engine"
   ]
  },
  {
   "cell_type": "code",
   "execution_count": 2,
   "id": "5c81cb6f-0287-4671-b4b2-b5aeb9e53b45",
   "metadata": {},
   "outputs": [],
   "source": [
    "# Carregar o arquivo Excel sales_data.csv.xlsx, no qual será chamado apenas sales\n",
    "sales = pd.read_excel('sales_data.csv.xlsx')"
   ]
  },
  {
   "cell_type": "code",
   "execution_count": 3,
   "id": "549655ce-2ddd-435d-b13a-d6096f079efe",
   "metadata": {},
   "outputs": [
    {
     "data": {
      "text/html": [
       "<div>\n",
       "<style scoped>\n",
       "    .dataframe tbody tr th:only-of-type {\n",
       "        vertical-align: middle;\n",
       "    }\n",
       "\n",
       "    .dataframe tbody tr th {\n",
       "        vertical-align: top;\n",
       "    }\n",
       "\n",
       "    .dataframe thead th {\n",
       "        text-align: right;\n",
       "    }\n",
       "</style>\n",
       "<table border=\"1\" class=\"dataframe\">\n",
       "  <thead>\n",
       "    <tr style=\"text-align: right;\">\n",
       "      <th></th>\n",
       "      <th>order_id</th>\n",
       "      <th>product_name</th>\n",
       "      <th>quantity</th>\n",
       "      <th>unit_price</th>\n",
       "      <th>cliente_id</th>\n",
       "      <th>order_date</th>\n",
       "    </tr>\n",
       "  </thead>\n",
       "  <tbody>\n",
       "    <tr>\n",
       "      <th>0</th>\n",
       "      <td>1</td>\n",
       "      <td>Produto A</td>\n",
       "      <td>3</td>\n",
       "      <td>25</td>\n",
       "      <td>74</td>\n",
       "      <td>2024-03-01</td>\n",
       "    </tr>\n",
       "    <tr>\n",
       "      <th>1</th>\n",
       "      <td>2</td>\n",
       "      <td>Produto B</td>\n",
       "      <td>2</td>\n",
       "      <td>30</td>\n",
       "      <td>36</td>\n",
       "      <td>2024-03-02</td>\n",
       "    </tr>\n",
       "    <tr>\n",
       "      <th>2</th>\n",
       "      <td>3</td>\n",
       "      <td>Produto C</td>\n",
       "      <td>1</td>\n",
       "      <td>20</td>\n",
       "      <td>12</td>\n",
       "      <td>2024-03-03</td>\n",
       "    </tr>\n",
       "    <tr>\n",
       "      <th>3</th>\n",
       "      <td>4</td>\n",
       "      <td>Produto A</td>\n",
       "      <td>4</td>\n",
       "      <td>25</td>\n",
       "      <td>92</td>\n",
       "      <td>2024-03-04</td>\n",
       "    </tr>\n",
       "    <tr>\n",
       "      <th>4</th>\n",
       "      <td>5</td>\n",
       "      <td>Produto D</td>\n",
       "      <td>2</td>\n",
       "      <td>40</td>\n",
       "      <td>55</td>\n",
       "      <td>2024-03-05</td>\n",
       "    </tr>\n",
       "  </tbody>\n",
       "</table>\n",
       "</div>"
      ],
      "text/plain": [
       "   order_id product_name  quantity  unit_price  cliente_id order_date\n",
       "0         1    Produto A         3          25          74 2024-03-01\n",
       "1         2    Produto B         2          30          36 2024-03-02\n",
       "2         3    Produto C         1          20          12 2024-03-03\n",
       "3         4    Produto A         4          25          92 2024-03-04\n",
       "4         5    Produto D         2          40          55 2024-03-05"
      ]
     },
     "execution_count": 3,
     "metadata": {},
     "output_type": "execute_result"
    }
   ],
   "source": [
    "# Vamos visualizar primeiras linhas do DataFrame para entender sua estrutura\n",
    "sales.head()"
   ]
  },
  {
   "cell_type": "code",
   "execution_count": 4,
   "id": "595f084d-f457-44ce-998d-6cbfe18f5d50",
   "metadata": {},
   "outputs": [
    {
     "name": "stdout",
     "output_type": "stream",
     "text": [
      "<class 'pandas.core.frame.DataFrame'>\n",
      "RangeIndex: 100 entries, 0 to 99\n",
      "Data columns (total 6 columns):\n",
      " #   Column        Non-Null Count  Dtype         \n",
      "---  ------        --------------  -----         \n",
      " 0   order_id      100 non-null    int64         \n",
      " 1   product_name  100 non-null    object        \n",
      " 2   quantity      100 non-null    int64         \n",
      " 3   unit_price    100 non-null    int64         \n",
      " 4   cliente_id    100 non-null    int64         \n",
      " 5   order_date    100 non-null    datetime64[ns]\n",
      "dtypes: datetime64[ns](1), int64(4), object(1)\n",
      "memory usage: 4.8+ KB\n"
     ]
    }
   ],
   "source": [
    "# Informações gerais sobre o DataFrame, incluindo tipos de dados e valores nulos\n",
    "sales.info()"
   ]
  },
  {
   "cell_type": "code",
   "execution_count": 5,
   "id": "67217a12-8a0e-48ed-b880-f636090aa09a",
   "metadata": {},
   "outputs": [
    {
     "data": {
      "text/plain": [
       "order_id        0\n",
       "product_name    0\n",
       "quantity        0\n",
       "unit_price      0\n",
       "cliente_id      0\n",
       "order_date      0\n",
       "dtype: int64"
      ]
     },
     "execution_count": 5,
     "metadata": {},
     "output_type": "execute_result"
    }
   ],
   "source": [
    "# validar a não existência de valores nulos\n",
    "sales.isnull().sum()"
   ]
  },
  {
   "cell_type": "code",
   "execution_count": 6,
   "id": "79c06492-2180-439d-a4e3-7b4bca26b8e4",
   "metadata": {},
   "outputs": [
    {
     "data": {
      "text/plain": [
       "0"
      ]
     },
     "execution_count": 6,
     "metadata": {},
     "output_type": "execute_result"
    }
   ],
   "source": [
    "# Verificar a existência de valores duplicados\n",
    "sales.duplicated().sum()"
   ]
  },
  {
   "cell_type": "markdown",
   "id": "ea27b3ca-1aea-42c9-8faf-602dcc4158ac",
   "metadata": {},
   "source": [
    "### Informações Gerais Sobre os Dados\n",
    "\n",
    "* O dataset contém 100 registros com 6 colunas: order_id, product_name, quantity, unit_price, cliente_id e order_date.\n",
    "  \n",
    "* Não há valores nulos no dataset.\n",
    "  \n",
    "* Não há registros duplicados."
   ]
  },
  {
   "cell_type": "markdown",
   "id": "7e419032-7e90-48dd-a520-aced69aa577b",
   "metadata": {},
   "source": [
    "## 1.0.2 Verificação de Integridade dos Dados\n",
    ">### Procurando por Dados Possivelmente Errados, tais como:\n",
    "\n",
    "\n",
    "\n",
    ">>*  Verificar se os valores nas colunas estão dentro dos intervalos esperados.\n",
    "  \n",
    ">>*  Verificar se todas as datas são válidas e fazem sentido no contexto dos dados.\n",
    "\n",
    ">>*  Garantir que todas as colunas têm o tipo de dado correto.\n",
    "\n",
    ">>*  Verificar se a quantidade e os preços dos produtos não são negativos.\n",
    ">>*  Checaremos a descrição dos dados"
   ]
  },
  {
   "cell_type": "markdown",
   "id": "004afa78-9305-40af-8377-7debcf53ec4b",
   "metadata": {},
   "source": []
  },
  {
   "cell_type": "code",
   "execution_count": 7,
   "id": "36890066-00de-4a2c-9610-aa8527bd1fb9",
   "metadata": {},
   "outputs": [],
   "source": [
    "# Vamos adicionar uma coluna de receita total, onde teremos o valor total por venda de produtos\n",
    "sales['total_revenue'] = sales['quantity'] * sales['unit_price']"
   ]
  },
  {
   "cell_type": "code",
   "execution_count": 8,
   "id": "a5e576a9-de86-48c4-b6c3-1c7bdacb6883",
   "metadata": {},
   "outputs": [
    {
     "data": {
      "text/html": [
       "<div>\n",
       "<style scoped>\n",
       "    .dataframe tbody tr th:only-of-type {\n",
       "        vertical-align: middle;\n",
       "    }\n",
       "\n",
       "    .dataframe tbody tr th {\n",
       "        vertical-align: top;\n",
       "    }\n",
       "\n",
       "    .dataframe thead th {\n",
       "        text-align: right;\n",
       "    }\n",
       "</style>\n",
       "<table border=\"1\" class=\"dataframe\">\n",
       "  <thead>\n",
       "    <tr style=\"text-align: right;\">\n",
       "      <th></th>\n",
       "      <th>order_id</th>\n",
       "      <th>product_name</th>\n",
       "      <th>quantity</th>\n",
       "      <th>unit_price</th>\n",
       "      <th>cliente_id</th>\n",
       "      <th>order_date</th>\n",
       "      <th>total_revenue</th>\n",
       "    </tr>\n",
       "  </thead>\n",
       "  <tbody>\n",
       "    <tr>\n",
       "      <th>0</th>\n",
       "      <td>1</td>\n",
       "      <td>Produto A</td>\n",
       "      <td>3</td>\n",
       "      <td>25</td>\n",
       "      <td>74</td>\n",
       "      <td>2024-03-01</td>\n",
       "      <td>75</td>\n",
       "    </tr>\n",
       "    <tr>\n",
       "      <th>1</th>\n",
       "      <td>2</td>\n",
       "      <td>Produto B</td>\n",
       "      <td>2</td>\n",
       "      <td>30</td>\n",
       "      <td>36</td>\n",
       "      <td>2024-03-02</td>\n",
       "      <td>60</td>\n",
       "    </tr>\n",
       "    <tr>\n",
       "      <th>2</th>\n",
       "      <td>3</td>\n",
       "      <td>Produto C</td>\n",
       "      <td>1</td>\n",
       "      <td>20</td>\n",
       "      <td>12</td>\n",
       "      <td>2024-03-03</td>\n",
       "      <td>20</td>\n",
       "    </tr>\n",
       "    <tr>\n",
       "      <th>3</th>\n",
       "      <td>4</td>\n",
       "      <td>Produto A</td>\n",
       "      <td>4</td>\n",
       "      <td>25</td>\n",
       "      <td>92</td>\n",
       "      <td>2024-03-04</td>\n",
       "      <td>100</td>\n",
       "    </tr>\n",
       "    <tr>\n",
       "      <th>4</th>\n",
       "      <td>5</td>\n",
       "      <td>Produto D</td>\n",
       "      <td>2</td>\n",
       "      <td>40</td>\n",
       "      <td>55</td>\n",
       "      <td>2024-03-05</td>\n",
       "      <td>80</td>\n",
       "    </tr>\n",
       "  </tbody>\n",
       "</table>\n",
       "</div>"
      ],
      "text/plain": [
       "   order_id product_name  quantity  unit_price  cliente_id order_date  \\\n",
       "0         1    Produto A         3          25          74 2024-03-01   \n",
       "1         2    Produto B         2          30          36 2024-03-02   \n",
       "2         3    Produto C         1          20          12 2024-03-03   \n",
       "3         4    Produto A         4          25          92 2024-03-04   \n",
       "4         5    Produto D         2          40          55 2024-03-05   \n",
       "\n",
       "   total_revenue  \n",
       "0             75  \n",
       "1             60  \n",
       "2             20  \n",
       "3            100  \n",
       "4             80  "
      ]
     },
     "execution_count": 8,
     "metadata": {},
     "output_type": "execute_result"
    }
   ],
   "source": [
    "#visualizando resultado\n",
    "sales.head()"
   ]
  },
  {
   "cell_type": "markdown",
   "id": "9cd7d672-7b90-4803-a8c3-863d559daaa9",
   "metadata": {},
   "source": [
    "### Verificação 1:\n",
    "* Vamos Verificar se há valores de quantidade (quantity) e preço unitário (unit_price) menores ou iguais a zero.Valores negativos ou zero não fazem sentido nesses contextos e são considerados dados errados."
   ]
  },
  {
   "cell_type": "code",
   "execution_count": 9,
   "id": "48d0c895-5952-458e-829f-f0fa2aea629f",
   "metadata": {},
   "outputs": [],
   "source": [
    "#Para isso, vamos criar duas variaveis para vericar as respectivas colunas 'quantity' e 'unit_price', isso mostrara se ha valores negativos\n",
    "invalid_quantity = sales[(sales['quantity'] <= 0)]\n",
    "invalid_unit_price = sales[(sales['unit_price'] <= 0)]"
   ]
  },
  {
   "cell_type": "markdown",
   "id": "03ba7c50-9cd6-4271-b739-6edfcdbdd04e",
   "metadata": {},
   "source": [
    "### Verificação 2:\n",
    "* Datas: Assumimos que todas as datas de pedidos (order_date) devem estar dentro do ano de 2024. Verificaremos se há datas fora desse intervalo."
   ]
  },
  {
   "cell_type": "code",
   "execution_count": 10,
   "id": "13dd5248-36cd-49d0-b870-70c12131d139",
   "metadata": {},
   "outputs": [],
   "source": [
    "# Verificando Datas inválidas (assumindo que a coluna 'order_date' deve estar em 2024)\n",
    "invalid_dates = sales[~sales['order_date'].between(pd.Timestamp('2024-01-01'), pd.Timestamp('2024-12-31'))]\n"
   ]
  },
  {
   "cell_type": "markdown",
   "id": "c4a7de23-ac50-4aa5-96ca-badd3a403c8a",
   "metadata": {},
   "source": [
    "### Verificação 3:\n",
    "\n",
    "* Tipos de Dados: Vamos verificamos se os tipos de dados das colunas são consistentes e apropriados (quantidade e preços devem ser numéricos, e as datas devem ser do tipo datetime)."
   ]
  },
  {
   "cell_type": "code",
   "execution_count": 11,
   "id": "0a186072-d288-44a9-863f-2f658da63be9",
   "metadata": {},
   "outputs": [],
   "source": [
    "# Tipos de dados inconsistentes\n",
    "data_types_correct = all([pd.api.types.is_numeric_dtype(sales['quantity']),\n",
    "                          pd.api.types.is_numeric_dtype(sales['unit_price']),\n",
    "                          pd.api.types.is_numeric_dtype(sales['total_revenue']),\n",
    "                          pd.api.types.is_datetime64_any_dtype(sales['order_date'])])\n"
   ]
  },
  {
   "cell_type": "code",
   "execution_count": 12,
   "id": "28f01722-9135-4fe3-914e-382e63a0f01d",
   "metadata": {},
   "outputs": [
    {
     "name": "stdout",
     "output_type": "stream",
     "text": [
      "Quantidade Inválida: Empty DataFrame\n",
      "Columns: [order_id, product_name, quantity, unit_price, cliente_id, order_date, total_revenue]\n",
      "Index: []\n",
      "Preços Inválidos: Empty DataFrame\n",
      "Columns: [order_id, product_name, quantity, unit_price, cliente_id, order_date, total_revenue]\n",
      "Index: []\n",
      "Datas Inválidas: Empty DataFrame\n",
      "Columns: [order_id, product_name, quantity, unit_price, cliente_id, order_date, total_revenue]\n",
      "Index: []\n",
      "Tipos de Dados Consistentes: True\n"
     ]
    }
   ],
   "source": [
    "# Exibir Resultados de dados inválidos encontrados\n",
    "print(\"Quantidade Inválida:\", invalid_quantity)\n",
    "print(\"Preços Inválidos:\", invalid_unit_price)\n",
    "print(\"Datas Inválidas:\", invalid_dates)\n",
    "print(\"Tipos de Dados Consistentes:\", data_types_correct)"
   ]
  },
  {
   "cell_type": "code",
   "execution_count": 13,
   "id": "7ac02ab3-e270-4561-8498-3cbbcfa18532",
   "metadata": {},
   "outputs": [
    {
     "data": {
      "text/html": [
       "<div>\n",
       "<style scoped>\n",
       "    .dataframe tbody tr th:only-of-type {\n",
       "        vertical-align: middle;\n",
       "    }\n",
       "\n",
       "    .dataframe tbody tr th {\n",
       "        vertical-align: top;\n",
       "    }\n",
       "\n",
       "    .dataframe thead th {\n",
       "        text-align: right;\n",
       "    }\n",
       "</style>\n",
       "<table border=\"1\" class=\"dataframe\">\n",
       "  <thead>\n",
       "    <tr style=\"text-align: right;\">\n",
       "      <th></th>\n",
       "      <th>count</th>\n",
       "      <th>mean</th>\n",
       "      <th>min</th>\n",
       "      <th>25%</th>\n",
       "      <th>50%</th>\n",
       "      <th>75%</th>\n",
       "      <th>max</th>\n",
       "      <th>std</th>\n",
       "    </tr>\n",
       "  </thead>\n",
       "  <tbody>\n",
       "    <tr>\n",
       "      <th>order_id</th>\n",
       "      <td>100.0</td>\n",
       "      <td>50.5</td>\n",
       "      <td>1.0</td>\n",
       "      <td>25.75</td>\n",
       "      <td>50.5</td>\n",
       "      <td>75.25</td>\n",
       "      <td>100.0</td>\n",
       "      <td>29.011492</td>\n",
       "    </tr>\n",
       "    <tr>\n",
       "      <th>quantity</th>\n",
       "      <td>100.0</td>\n",
       "      <td>2.34</td>\n",
       "      <td>1.0</td>\n",
       "      <td>2.0</td>\n",
       "      <td>2.0</td>\n",
       "      <td>3.0</td>\n",
       "      <td>4.0</td>\n",
       "      <td>0.976698</td>\n",
       "    </tr>\n",
       "    <tr>\n",
       "      <th>unit_price</th>\n",
       "      <td>100.0</td>\n",
       "      <td>28.6</td>\n",
       "      <td>20.0</td>\n",
       "      <td>23.75</td>\n",
       "      <td>25.0</td>\n",
       "      <td>30.0</td>\n",
       "      <td>40.0</td>\n",
       "      <td>7.353965</td>\n",
       "    </tr>\n",
       "    <tr>\n",
       "      <th>cliente_id</th>\n",
       "      <td>100.0</td>\n",
       "      <td>49.12</td>\n",
       "      <td>1.0</td>\n",
       "      <td>25.5</td>\n",
       "      <td>49.5</td>\n",
       "      <td>76.0</td>\n",
       "      <td>100.0</td>\n",
       "      <td>29.403594</td>\n",
       "    </tr>\n",
       "    <tr>\n",
       "      <th>order_date</th>\n",
       "      <td>100</td>\n",
       "      <td>2024-04-19 12:00:00</td>\n",
       "      <td>2024-03-01 00:00:00</td>\n",
       "      <td>2024-03-25 18:00:00</td>\n",
       "      <td>2024-04-19 12:00:00</td>\n",
       "      <td>2024-05-14 06:00:00</td>\n",
       "      <td>2024-06-08 00:00:00</td>\n",
       "      <td>NaN</td>\n",
       "    </tr>\n",
       "    <tr>\n",
       "      <th>total_revenue</th>\n",
       "      <td>100.0</td>\n",
       "      <td>66.45</td>\n",
       "      <td>20.0</td>\n",
       "      <td>40.0</td>\n",
       "      <td>60.0</td>\n",
       "      <td>82.5</td>\n",
       "      <td>120.0</td>\n",
       "      <td>31.126128</td>\n",
       "    </tr>\n",
       "  </tbody>\n",
       "</table>\n",
       "</div>"
      ],
      "text/plain": [
       "               count                 mean                  min  \\\n",
       "order_id       100.0                 50.5                  1.0   \n",
       "quantity       100.0                 2.34                  1.0   \n",
       "unit_price     100.0                 28.6                 20.0   \n",
       "cliente_id     100.0                49.12                  1.0   \n",
       "order_date       100  2024-04-19 12:00:00  2024-03-01 00:00:00   \n",
       "total_revenue  100.0                66.45                 20.0   \n",
       "\n",
       "                               25%                  50%                  75%  \\\n",
       "order_id                     25.75                 50.5                75.25   \n",
       "quantity                       2.0                  2.0                  3.0   \n",
       "unit_price                   23.75                 25.0                 30.0   \n",
       "cliente_id                    25.5                 49.5                 76.0   \n",
       "order_date     2024-03-25 18:00:00  2024-04-19 12:00:00  2024-05-14 06:00:00   \n",
       "total_revenue                 40.0                 60.0                 82.5   \n",
       "\n",
       "                               max        std  \n",
       "order_id                     100.0  29.011492  \n",
       "quantity                       4.0   0.976698  \n",
       "unit_price                    40.0   7.353965  \n",
       "cliente_id                   100.0  29.403594  \n",
       "order_date     2024-06-08 00:00:00        NaN  \n",
       "total_revenue                120.0  31.126128  "
      ]
     },
     "execution_count": 13,
     "metadata": {},
     "output_type": "execute_result"
    }
   ],
   "source": [
    "# Checando Informações Descritivas\n",
    "sales.describe().T"
   ]
  },
  {
   "cell_type": "markdown",
   "id": "7bd7a84c-8bb4-4dd2-b38e-e2903f012f34",
   "metadata": {},
   "source": [
    "### Insights Gerais Dos Dados de Vendas:\n",
    "\n",
    ">>* A Média de Receita total das vendas é 66.4. O valor máximo em vendas foi 120 e o minimo foi 20, o que condiz com o produto de menor valor disponível.\n",
    "\n",
    ">>* A Média de Preços unitarios dos produtos é de 28.6. Já o valor minimo é 20 e o máximo é de 40 o que pode indicar uma variação significativa nos preços dos produtos, indicando uma gama diversificada de produtos com diferentes faixas de preço.\n",
    "\n",
    ">>* Todas as datas de pedidos estão dentro do intervalo esperado (ano de 2024), o que indica que os dados de datas são consistentes e apropriados.\n",
    "\n",
    ">### Conclusões Gerais\n",
    ">* Qualidade dos Dados: Os dados parecem ser de alta qualidade, sem quantidades ou preços inválidos, e todas as datas estão dentro do intervalo esperado.\n",
    ">* Consistência dos Dados: Os tipos de dados estão corretos, garantindo que as colunas contêm os tipos de dados apropriados para análise.\n"
   ]
  },
  {
   "cell_type": "markdown",
   "id": "7398e785-ca51-4b0c-b212-f738f745d069",
   "metadata": {},
   "source": [
    "## 1.0.3 Explorando Dados de Clientes\n",
    "\n",
    "> ### Visualização e Compreensão\n",
    "> * Nesta etapa nosso objetivo é replicar as boas práticas realizadas anteriormente para os dados de vendas, isso permitirá que ao termino das nossas analises, os insghts gerados sejam validados por dados que tenham integridade e consistência necessárias.\n",
    "\n",
    ">>* Vamos visualisar e compreender a organização dos dados atraves de uma tabela utilizando a biblioteca pandas\n",
    ">>* Entenderemos os tipos de cada coluna\n",
    ">>* Vamos checar a existência de valores inexistentes e também se há registros duplicados"
   ]
  },
  {
   "cell_type": "code",
   "execution_count": 14,
   "id": "a40b3cb4-95cd-4860-a16c-c115995a3db5",
   "metadata": {},
   "outputs": [],
   "source": [
    "# Carregar o arquivo customer_data.csv, o qual será chamado apenas de customer\n",
    "customer = pd.read_csv('customer_data.csv', sep=',', encoding='LATIN-1')"
   ]
  },
  {
   "cell_type": "code",
   "execution_count": 15,
   "id": "7f680482-5203-4207-9c0f-665eb5be64b3",
   "metadata": {},
   "outputs": [
    {
     "data": {
      "text/html": [
       "<div>\n",
       "<style scoped>\n",
       "    .dataframe tbody tr th:only-of-type {\n",
       "        vertical-align: middle;\n",
       "    }\n",
       "\n",
       "    .dataframe tbody tr th {\n",
       "        vertical-align: top;\n",
       "    }\n",
       "\n",
       "    .dataframe thead th {\n",
       "        text-align: right;\n",
       "    }\n",
       "</style>\n",
       "<table border=\"1\" class=\"dataframe\">\n",
       "  <thead>\n",
       "    <tr style=\"text-align: right;\">\n",
       "      <th></th>\n",
       "      <th>id_cliente</th>\n",
       "      <th>nome</th>\n",
       "      <th>sobrenome</th>\n",
       "      <th>email</th>\n",
       "      <th>telefone</th>\n",
       "      <th>endereço</th>\n",
       "      <th>numero</th>\n",
       "    </tr>\n",
       "  </thead>\n",
       "  <tbody>\n",
       "    <tr>\n",
       "      <th>0</th>\n",
       "      <td>1</td>\n",
       "      <td>João</td>\n",
       "      <td>Silva</td>\n",
       "      <td>joao.silva@email.com</td>\n",
       "      <td>(11) 1234-5678</td>\n",
       "      <td>Rua das Flores</td>\n",
       "      <td>123</td>\n",
       "    </tr>\n",
       "    <tr>\n",
       "      <th>1</th>\n",
       "      <td>2</td>\n",
       "      <td>Maria</td>\n",
       "      <td>Santos</td>\n",
       "      <td>maria.santos@email.com</td>\n",
       "      <td>(11) 2345-6789</td>\n",
       "      <td>Avenida Principal</td>\n",
       "      <td>456</td>\n",
       "    </tr>\n",
       "    <tr>\n",
       "      <th>2</th>\n",
       "      <td>3</td>\n",
       "      <td>Carlos</td>\n",
       "      <td>Rocha</td>\n",
       "      <td>carlos.rocha@email.com</td>\n",
       "      <td>(11) 3456-7890</td>\n",
       "      <td>Travessa das Árvores</td>\n",
       "      <td>789</td>\n",
       "    </tr>\n",
       "    <tr>\n",
       "      <th>3</th>\n",
       "      <td>4</td>\n",
       "      <td>Ana</td>\n",
       "      <td>Costa</td>\n",
       "      <td>ana.costa@email.com</td>\n",
       "      <td>(11) 4567-8901</td>\n",
       "      <td>Rua dos Passarinhos</td>\n",
       "      <td>987</td>\n",
       "    </tr>\n",
       "    <tr>\n",
       "      <th>4</th>\n",
       "      <td>5</td>\n",
       "      <td>Luiz</td>\n",
       "      <td>Oliveira</td>\n",
       "      <td>luiz.oliveira@email.com</td>\n",
       "      <td>(11) 5678-9012</td>\n",
       "      <td>Alameda das Rosas</td>\n",
       "      <td>654</td>\n",
       "    </tr>\n",
       "  </tbody>\n",
       "</table>\n",
       "</div>"
      ],
      "text/plain": [
       "   id_cliente    nome sobrenome                    email        telefone  \\\n",
       "0           1    João     Silva     joao.silva@email.com  (11) 1234-5678   \n",
       "1           2   Maria    Santos   maria.santos@email.com  (11) 2345-6789   \n",
       "2           3  Carlos     Rocha   carlos.rocha@email.com  (11) 3456-7890   \n",
       "3           4     Ana     Costa      ana.costa@email.com  (11) 4567-8901   \n",
       "4           5    Luiz  Oliveira  luiz.oliveira@email.com  (11) 5678-9012   \n",
       "\n",
       "               endereço  numero  \n",
       "0        Rua das Flores     123  \n",
       "1     Avenida Principal     456  \n",
       "2  Travessa das Árvores     789  \n",
       "3   Rua dos Passarinhos     987  \n",
       "4     Alameda das Rosas     654  "
      ]
     },
     "execution_count": 15,
     "metadata": {},
     "output_type": "execute_result"
    }
   ],
   "source": [
    "# Vamos visualizar primeiras linhas do DataFrame para entender sua estrutura\n",
    "customer.head()"
   ]
  },
  {
   "cell_type": "code",
   "execution_count": 16,
   "id": "8a785b74-c564-4abe-ada1-ba97433053a9",
   "metadata": {},
   "outputs": [
    {
     "name": "stdout",
     "output_type": "stream",
     "text": [
      "<class 'pandas.core.frame.DataFrame'>\n",
      "RangeIndex: 100 entries, 0 to 99\n",
      "Data columns (total 7 columns):\n",
      " #   Column      Non-Null Count  Dtype \n",
      "---  ------      --------------  ----- \n",
      " 0   id_cliente  100 non-null    int64 \n",
      " 1   nome        100 non-null    object\n",
      " 2   sobrenome   100 non-null    object\n",
      " 3   email       100 non-null    object\n",
      " 4   telefone    100 non-null    object\n",
      " 5   endereço    100 non-null    object\n",
      " 6   numero      100 non-null    int64 \n",
      "dtypes: int64(2), object(5)\n",
      "memory usage: 5.6+ KB\n"
     ]
    }
   ],
   "source": [
    "# Informações gerais sobre o DataFrame, incluindo tipos de dados e valores nulos\n",
    "customer.info()"
   ]
  },
  {
   "cell_type": "code",
   "execution_count": 17,
   "id": "025775be-aa5f-42d4-ab33-18496f791bee",
   "metadata": {},
   "outputs": [
    {
     "data": {
      "text/plain": [
       "id_cliente    0\n",
       "nome          0\n",
       "sobrenome     0\n",
       "email         0\n",
       "telefone      0\n",
       "endereço      0\n",
       "numero        0\n",
       "dtype: int64"
      ]
     },
     "execution_count": 17,
     "metadata": {},
     "output_type": "execute_result"
    }
   ],
   "source": [
    "# validar a não existência de valores nulos\n",
    "customer.isnull().sum()"
   ]
  },
  {
   "cell_type": "code",
   "execution_count": 18,
   "id": "851f0301-6300-4882-a8d5-fb2d38e19150",
   "metadata": {},
   "outputs": [
    {
     "data": {
      "text/plain": [
       "0"
      ]
     },
     "execution_count": 18,
     "metadata": {},
     "output_type": "execute_result"
    }
   ],
   "source": [
    "# Verificar a existência de valores duplicados\n",
    "customer.duplicated().sum()"
   ]
  },
  {
   "cell_type": "markdown",
   "id": "1306d121-5bf8-4887-b123-713ef5e9bf3a",
   "metadata": {},
   "source": [
    "### Informações Gerais Sobre os Dados de Clientes: \n",
    "\n",
    "* Não Foram Encontrados Registros Ausentes.\n",
    "\n",
    "* O Tipo de cada coluna condiz com os dados registrados, até então não se fazendo necessário o trabatamento dos registros para analises futuras.\n",
    "\n",
    "* Não Foram Encontradas Duplicidades nos registros\n",
    "\n",
    ">  ### Conclusões Gerais\n",
    ">* Qualidade dos Dados: Os dados parecem ser de alta qualidade, sem quantidades ou preços inválidos, e todas as datas estão dentro do intervalo esperado.\n",
    ">* Consistência dos Dados: Os tipos de dados estão corretos, garantindo que as colunas contêm os tipos de dados apropriados para análise."
   ]
  },
  {
   "cell_type": "markdown",
   "id": "7efc5133-d08d-4994-b56c-8fa9c33045dd",
   "metadata": {},
   "source": [
    "# 2.0 Transformação de Dados\n",
    ">## ETAPA 2"
   ]
  },
  {
   "cell_type": "markdown",
   "id": "c0443c1a-3a79-4805-9290-11a945172070",
   "metadata": {},
   "source": [
    "### 2.0.1 Visulização das Tabelas\n",
    ">* Nosso Objetivo nesta etapa será aplicar uma técnica de desnormalização nas tabelas sales e customers, processo no qual tornará ambas tabelas em apenas uma.\n",
    "\n",
    ">* Também realizaremos o processo de feature engineering para criação de novas colunas que nos auxiliarão para responder perguntas de negócios futuras. Embora ja tenhamos realizado a criação da variável 'total_revenue' na etapa anterior."
   ]
  },
  {
   "cell_type": "code",
   "execution_count": 19,
   "id": "a68bcab3-7c2b-4b27-b2a5-c449a7f85442",
   "metadata": {},
   "outputs": [
    {
     "data": {
      "text/html": [
       "<div>\n",
       "<style scoped>\n",
       "    .dataframe tbody tr th:only-of-type {\n",
       "        vertical-align: middle;\n",
       "    }\n",
       "\n",
       "    .dataframe tbody tr th {\n",
       "        vertical-align: top;\n",
       "    }\n",
       "\n",
       "    .dataframe thead th {\n",
       "        text-align: right;\n",
       "    }\n",
       "</style>\n",
       "<table border=\"1\" class=\"dataframe\">\n",
       "  <thead>\n",
       "    <tr style=\"text-align: right;\">\n",
       "      <th></th>\n",
       "      <th>order_id</th>\n",
       "      <th>product_name</th>\n",
       "      <th>quantity</th>\n",
       "      <th>unit_price</th>\n",
       "      <th>cliente_id</th>\n",
       "      <th>order_date</th>\n",
       "      <th>total_revenue</th>\n",
       "    </tr>\n",
       "  </thead>\n",
       "  <tbody>\n",
       "    <tr>\n",
       "      <th>0</th>\n",
       "      <td>1</td>\n",
       "      <td>Produto A</td>\n",
       "      <td>3</td>\n",
       "      <td>25</td>\n",
       "      <td>74</td>\n",
       "      <td>2024-03-01</td>\n",
       "      <td>75</td>\n",
       "    </tr>\n",
       "    <tr>\n",
       "      <th>1</th>\n",
       "      <td>2</td>\n",
       "      <td>Produto B</td>\n",
       "      <td>2</td>\n",
       "      <td>30</td>\n",
       "      <td>36</td>\n",
       "      <td>2024-03-02</td>\n",
       "      <td>60</td>\n",
       "    </tr>\n",
       "    <tr>\n",
       "      <th>2</th>\n",
       "      <td>3</td>\n",
       "      <td>Produto C</td>\n",
       "      <td>1</td>\n",
       "      <td>20</td>\n",
       "      <td>12</td>\n",
       "      <td>2024-03-03</td>\n",
       "      <td>20</td>\n",
       "    </tr>\n",
       "    <tr>\n",
       "      <th>3</th>\n",
       "      <td>4</td>\n",
       "      <td>Produto A</td>\n",
       "      <td>4</td>\n",
       "      <td>25</td>\n",
       "      <td>92</td>\n",
       "      <td>2024-03-04</td>\n",
       "      <td>100</td>\n",
       "    </tr>\n",
       "    <tr>\n",
       "      <th>4</th>\n",
       "      <td>5</td>\n",
       "      <td>Produto D</td>\n",
       "      <td>2</td>\n",
       "      <td>40</td>\n",
       "      <td>55</td>\n",
       "      <td>2024-03-05</td>\n",
       "      <td>80</td>\n",
       "    </tr>\n",
       "  </tbody>\n",
       "</table>\n",
       "</div>"
      ],
      "text/plain": [
       "   order_id product_name  quantity  unit_price  cliente_id order_date  \\\n",
       "0         1    Produto A         3          25          74 2024-03-01   \n",
       "1         2    Produto B         2          30          36 2024-03-02   \n",
       "2         3    Produto C         1          20          12 2024-03-03   \n",
       "3         4    Produto A         4          25          92 2024-03-04   \n",
       "4         5    Produto D         2          40          55 2024-03-05   \n",
       "\n",
       "   total_revenue  \n",
       "0             75  \n",
       "1             60  \n",
       "2             20  \n",
       "3            100  \n",
       "4             80  "
      ]
     },
     "execution_count": 19,
     "metadata": {},
     "output_type": "execute_result"
    }
   ],
   "source": [
    "#Primeiro visualizamos os primeiros registros de ambas tabelas\n",
    "#visualizando tabela de vendas\n",
    "sales.head()"
   ]
  },
  {
   "cell_type": "code",
   "execution_count": 20,
   "id": "cba4651f-b37c-4737-b034-8e1d3fe106ca",
   "metadata": {},
   "outputs": [
    {
     "data": {
      "text/html": [
       "<div>\n",
       "<style scoped>\n",
       "    .dataframe tbody tr th:only-of-type {\n",
       "        vertical-align: middle;\n",
       "    }\n",
       "\n",
       "    .dataframe tbody tr th {\n",
       "        vertical-align: top;\n",
       "    }\n",
       "\n",
       "    .dataframe thead th {\n",
       "        text-align: right;\n",
       "    }\n",
       "</style>\n",
       "<table border=\"1\" class=\"dataframe\">\n",
       "  <thead>\n",
       "    <tr style=\"text-align: right;\">\n",
       "      <th></th>\n",
       "      <th>id_cliente</th>\n",
       "      <th>nome</th>\n",
       "      <th>sobrenome</th>\n",
       "      <th>email</th>\n",
       "      <th>telefone</th>\n",
       "      <th>endereço</th>\n",
       "      <th>numero</th>\n",
       "    </tr>\n",
       "  </thead>\n",
       "  <tbody>\n",
       "    <tr>\n",
       "      <th>0</th>\n",
       "      <td>1</td>\n",
       "      <td>João</td>\n",
       "      <td>Silva</td>\n",
       "      <td>joao.silva@email.com</td>\n",
       "      <td>(11) 1234-5678</td>\n",
       "      <td>Rua das Flores</td>\n",
       "      <td>123</td>\n",
       "    </tr>\n",
       "    <tr>\n",
       "      <th>1</th>\n",
       "      <td>2</td>\n",
       "      <td>Maria</td>\n",
       "      <td>Santos</td>\n",
       "      <td>maria.santos@email.com</td>\n",
       "      <td>(11) 2345-6789</td>\n",
       "      <td>Avenida Principal</td>\n",
       "      <td>456</td>\n",
       "    </tr>\n",
       "    <tr>\n",
       "      <th>2</th>\n",
       "      <td>3</td>\n",
       "      <td>Carlos</td>\n",
       "      <td>Rocha</td>\n",
       "      <td>carlos.rocha@email.com</td>\n",
       "      <td>(11) 3456-7890</td>\n",
       "      <td>Travessa das Árvores</td>\n",
       "      <td>789</td>\n",
       "    </tr>\n",
       "    <tr>\n",
       "      <th>3</th>\n",
       "      <td>4</td>\n",
       "      <td>Ana</td>\n",
       "      <td>Costa</td>\n",
       "      <td>ana.costa@email.com</td>\n",
       "      <td>(11) 4567-8901</td>\n",
       "      <td>Rua dos Passarinhos</td>\n",
       "      <td>987</td>\n",
       "    </tr>\n",
       "    <tr>\n",
       "      <th>4</th>\n",
       "      <td>5</td>\n",
       "      <td>Luiz</td>\n",
       "      <td>Oliveira</td>\n",
       "      <td>luiz.oliveira@email.com</td>\n",
       "      <td>(11) 5678-9012</td>\n",
       "      <td>Alameda das Rosas</td>\n",
       "      <td>654</td>\n",
       "    </tr>\n",
       "  </tbody>\n",
       "</table>\n",
       "</div>"
      ],
      "text/plain": [
       "   id_cliente    nome sobrenome                    email        telefone  \\\n",
       "0           1    João     Silva     joao.silva@email.com  (11) 1234-5678   \n",
       "1           2   Maria    Santos   maria.santos@email.com  (11) 2345-6789   \n",
       "2           3  Carlos     Rocha   carlos.rocha@email.com  (11) 3456-7890   \n",
       "3           4     Ana     Costa      ana.costa@email.com  (11) 4567-8901   \n",
       "4           5    Luiz  Oliveira  luiz.oliveira@email.com  (11) 5678-9012   \n",
       "\n",
       "               endereço  numero  \n",
       "0        Rua das Flores     123  \n",
       "1     Avenida Principal     456  \n",
       "2  Travessa das Árvores     789  \n",
       "3   Rua dos Passarinhos     987  \n",
       "4     Alameda das Rosas     654  "
      ]
     },
     "execution_count": 20,
     "metadata": {},
     "output_type": "execute_result"
    }
   ],
   "source": [
    "#visualizando tabela de clientes\n",
    "customer.head()"
   ]
  },
  {
   "cell_type": "markdown",
   "id": "7e84affe-f1d3-408d-a6bb-338e36341a27",
   "metadata": {},
   "source": [
    "#### OBSERVAÇÃO\n",
    "* É possivel notar que a coluna Id de cliente que faz relacionamento entre as tabelas possui divergência entre os nomes, vamos renomear a coluna da tabela sales para que fique como estará futuramente na tabela customer, evitando assim erro entre as junções.\n",
    "\n",
    "* Logo em seguida, usaremos a coluna 'order_date' para criação de colunas para dia, mês e ano. Com isso, poderemos realizar filtros mais acertivos e analises de vendas temporais"
   ]
  },
  {
   "cell_type": "code",
   "execution_count": 21,
   "id": "7e2c6309-07ff-4eb3-91bd-624585a2c7e9",
   "metadata": {},
   "outputs": [],
   "source": [
    "# Renomeando coluna de ID de cliente da tabela sales\n",
    "\n",
    "sales.rename(columns={\n",
    "    'cliente_id': 'customer_id'\n",
    "}, inplace=True)"
   ]
  },
  {
   "cell_type": "code",
   "execution_count": 22,
   "id": "8a85e1a0-3c7d-4590-96b1-6565676f9f10",
   "metadata": {},
   "outputs": [
    {
     "data": {
      "text/html": [
       "<div>\n",
       "<style scoped>\n",
       "    .dataframe tbody tr th:only-of-type {\n",
       "        vertical-align: middle;\n",
       "    }\n",
       "\n",
       "    .dataframe tbody tr th {\n",
       "        vertical-align: top;\n",
       "    }\n",
       "\n",
       "    .dataframe thead th {\n",
       "        text-align: right;\n",
       "    }\n",
       "</style>\n",
       "<table border=\"1\" class=\"dataframe\">\n",
       "  <thead>\n",
       "    <tr style=\"text-align: right;\">\n",
       "      <th></th>\n",
       "      <th>order_id</th>\n",
       "      <th>product_name</th>\n",
       "      <th>quantity</th>\n",
       "      <th>unit_price</th>\n",
       "      <th>customer_id</th>\n",
       "      <th>order_date</th>\n",
       "      <th>total_revenue</th>\n",
       "    </tr>\n",
       "  </thead>\n",
       "  <tbody>\n",
       "    <tr>\n",
       "      <th>0</th>\n",
       "      <td>1</td>\n",
       "      <td>Produto A</td>\n",
       "      <td>3</td>\n",
       "      <td>25</td>\n",
       "      <td>74</td>\n",
       "      <td>2024-03-01</td>\n",
       "      <td>75</td>\n",
       "    </tr>\n",
       "    <tr>\n",
       "      <th>1</th>\n",
       "      <td>2</td>\n",
       "      <td>Produto B</td>\n",
       "      <td>2</td>\n",
       "      <td>30</td>\n",
       "      <td>36</td>\n",
       "      <td>2024-03-02</td>\n",
       "      <td>60</td>\n",
       "    </tr>\n",
       "  </tbody>\n",
       "</table>\n",
       "</div>"
      ],
      "text/plain": [
       "   order_id product_name  quantity  unit_price  customer_id order_date  \\\n",
       "0         1    Produto A         3          25           74 2024-03-01   \n",
       "1         2    Produto B         2          30           36 2024-03-02   \n",
       "\n",
       "   total_revenue  \n",
       "0             75  \n",
       "1             60  "
      ]
     },
     "execution_count": 22,
     "metadata": {},
     "output_type": "execute_result"
    }
   ],
   "source": [
    "# validando alteração\n",
    "sales.head(2)"
   ]
  },
  {
   "cell_type": "code",
   "execution_count": 23,
   "id": "eeddc6f1-9381-4e8b-84d1-087a9a816815",
   "metadata": {},
   "outputs": [],
   "source": [
    "# Criando colunas 'month', 'year' e 'day' \n",
    "\n",
    "#coluna month (mês)\n",
    "sales['month'] = sales['order_date'].dt.month\n",
    "\n",
    "#coluna year (ano)\n",
    "sales['year'] = sales['order_date'].dt.year\n",
    "\n",
    "#coluna day (dia)\n",
    "sales['day'] = sales['order_date'].dt.day"
   ]
  },
  {
   "cell_type": "code",
   "execution_count": 24,
   "id": "0d676ace-2182-44ba-b6b2-be86887a2451",
   "metadata": {},
   "outputs": [
    {
     "data": {
      "text/html": [
       "<div>\n",
       "<style scoped>\n",
       "    .dataframe tbody tr th:only-of-type {\n",
       "        vertical-align: middle;\n",
       "    }\n",
       "\n",
       "    .dataframe tbody tr th {\n",
       "        vertical-align: top;\n",
       "    }\n",
       "\n",
       "    .dataframe thead th {\n",
       "        text-align: right;\n",
       "    }\n",
       "</style>\n",
       "<table border=\"1\" class=\"dataframe\">\n",
       "  <thead>\n",
       "    <tr style=\"text-align: right;\">\n",
       "      <th></th>\n",
       "      <th>order_id</th>\n",
       "      <th>product_name</th>\n",
       "      <th>quantity</th>\n",
       "      <th>unit_price</th>\n",
       "      <th>customer_id</th>\n",
       "      <th>order_date</th>\n",
       "      <th>total_revenue</th>\n",
       "      <th>month</th>\n",
       "      <th>year</th>\n",
       "      <th>day</th>\n",
       "    </tr>\n",
       "  </thead>\n",
       "  <tbody>\n",
       "    <tr>\n",
       "      <th>0</th>\n",
       "      <td>1</td>\n",
       "      <td>Produto A</td>\n",
       "      <td>3</td>\n",
       "      <td>25</td>\n",
       "      <td>74</td>\n",
       "      <td>2024-03-01</td>\n",
       "      <td>75</td>\n",
       "      <td>3</td>\n",
       "      <td>2024</td>\n",
       "      <td>1</td>\n",
       "    </tr>\n",
       "    <tr>\n",
       "      <th>1</th>\n",
       "      <td>2</td>\n",
       "      <td>Produto B</td>\n",
       "      <td>2</td>\n",
       "      <td>30</td>\n",
       "      <td>36</td>\n",
       "      <td>2024-03-02</td>\n",
       "      <td>60</td>\n",
       "      <td>3</td>\n",
       "      <td>2024</td>\n",
       "      <td>2</td>\n",
       "    </tr>\n",
       "    <tr>\n",
       "      <th>2</th>\n",
       "      <td>3</td>\n",
       "      <td>Produto C</td>\n",
       "      <td>1</td>\n",
       "      <td>20</td>\n",
       "      <td>12</td>\n",
       "      <td>2024-03-03</td>\n",
       "      <td>20</td>\n",
       "      <td>3</td>\n",
       "      <td>2024</td>\n",
       "      <td>3</td>\n",
       "    </tr>\n",
       "    <tr>\n",
       "      <th>3</th>\n",
       "      <td>4</td>\n",
       "      <td>Produto A</td>\n",
       "      <td>4</td>\n",
       "      <td>25</td>\n",
       "      <td>92</td>\n",
       "      <td>2024-03-04</td>\n",
       "      <td>100</td>\n",
       "      <td>3</td>\n",
       "      <td>2024</td>\n",
       "      <td>4</td>\n",
       "    </tr>\n",
       "    <tr>\n",
       "      <th>4</th>\n",
       "      <td>5</td>\n",
       "      <td>Produto D</td>\n",
       "      <td>2</td>\n",
       "      <td>40</td>\n",
       "      <td>55</td>\n",
       "      <td>2024-03-05</td>\n",
       "      <td>80</td>\n",
       "      <td>3</td>\n",
       "      <td>2024</td>\n",
       "      <td>5</td>\n",
       "    </tr>\n",
       "  </tbody>\n",
       "</table>\n",
       "</div>"
      ],
      "text/plain": [
       "   order_id product_name  quantity  unit_price  customer_id order_date  \\\n",
       "0         1    Produto A         3          25           74 2024-03-01   \n",
       "1         2    Produto B         2          30           36 2024-03-02   \n",
       "2         3    Produto C         1          20           12 2024-03-03   \n",
       "3         4    Produto A         4          25           92 2024-03-04   \n",
       "4         5    Produto D         2          40           55 2024-03-05   \n",
       "\n",
       "   total_revenue  month  year  day  \n",
       "0             75      3  2024    1  \n",
       "1             60      3  2024    2  \n",
       "2             20      3  2024    3  \n",
       "3            100      3  2024    4  \n",
       "4             80      3  2024    5  "
      ]
     },
     "execution_count": 24,
     "metadata": {},
     "output_type": "execute_result"
    }
   ],
   "source": [
    "#validando novas colunas\n",
    "sales.head()"
   ]
  },
  {
   "cell_type": "markdown",
   "id": "63dcb86f-9db8-4673-b156-849158a14014",
   "metadata": {},
   "source": [
    "#### OBSERVAÇÃO\n",
    "\n",
    "* Na tabela de clientes, nome e sobrenome estão em colunas separadas. Porém, como estamos desnormalizando os dados para termos somente uma unica tabela, vamos unir essas duas colunas em apenas uma nova chamada 'name_customer'.\n",
    "\n",
    "* Logo em seguida, descartaremos as duas primeiras colunas originais e manteremos somente a 'name_customer'\n",
    "\n",
    "* Por fim, notamos que as colunas das tabelas sales e customer divergem sobre o idioma usado nos nomes das colunas. Renomearemos a tabela customer para que fique em inglês assim como está na tabela sales. Optamos por manter o idioma inglês visando menores chances de erros e bugs no dercorrer do projeto, dado que as linguagens de programação que estamos utilizando (Python e SQL) são nativas de lingua inglesa."
   ]
  },
  {
   "cell_type": "code",
   "execution_count": 25,
   "id": "f674c015-37e9-4ab6-80fc-7d8bc8203e85",
   "metadata": {},
   "outputs": [],
   "source": [
    "# Combinando as colunas 'nome' e 'sobrenome' em uma única coluna 'name_customer'\n",
    "customer['name_customer'] = customer['nome'] + ' ' + customer['sobrenome']"
   ]
  },
  {
   "cell_type": "code",
   "execution_count": 26,
   "id": "ab57f37b-128d-4bbe-9fbb-cd0e367f7f52",
   "metadata": {},
   "outputs": [
    {
     "data": {
      "text/html": [
       "<div>\n",
       "<style scoped>\n",
       "    .dataframe tbody tr th:only-of-type {\n",
       "        vertical-align: middle;\n",
       "    }\n",
       "\n",
       "    .dataframe tbody tr th {\n",
       "        vertical-align: top;\n",
       "    }\n",
       "\n",
       "    .dataframe thead th {\n",
       "        text-align: right;\n",
       "    }\n",
       "</style>\n",
       "<table border=\"1\" class=\"dataframe\">\n",
       "  <thead>\n",
       "    <tr style=\"text-align: right;\">\n",
       "      <th></th>\n",
       "      <th>id_cliente</th>\n",
       "      <th>nome</th>\n",
       "      <th>sobrenome</th>\n",
       "      <th>email</th>\n",
       "      <th>telefone</th>\n",
       "      <th>endereço</th>\n",
       "      <th>numero</th>\n",
       "      <th>name_customer</th>\n",
       "    </tr>\n",
       "  </thead>\n",
       "  <tbody>\n",
       "    <tr>\n",
       "      <th>0</th>\n",
       "      <td>1</td>\n",
       "      <td>João</td>\n",
       "      <td>Silva</td>\n",
       "      <td>joao.silva@email.com</td>\n",
       "      <td>(11) 1234-5678</td>\n",
       "      <td>Rua das Flores</td>\n",
       "      <td>123</td>\n",
       "      <td>João Silva</td>\n",
       "    </tr>\n",
       "  </tbody>\n",
       "</table>\n",
       "</div>"
      ],
      "text/plain": [
       "   id_cliente  nome sobrenome                 email        telefone  \\\n",
       "0           1  João     Silva  joao.silva@email.com  (11) 1234-5678   \n",
       "\n",
       "         endereço  numero name_customer  \n",
       "0  Rua das Flores     123    João Silva  "
      ]
     },
     "execution_count": 26,
     "metadata": {},
     "output_type": "execute_result"
    }
   ],
   "source": [
    "#visualizando alteração\n",
    "customer.head(1)"
   ]
  },
  {
   "cell_type": "code",
   "execution_count": 27,
   "id": "61f41f27-5efd-4bb3-95c6-6e6ebf71b1c0",
   "metadata": {},
   "outputs": [
    {
     "data": {
      "text/html": [
       "<div>\n",
       "<style scoped>\n",
       "    .dataframe tbody tr th:only-of-type {\n",
       "        vertical-align: middle;\n",
       "    }\n",
       "\n",
       "    .dataframe tbody tr th {\n",
       "        vertical-align: top;\n",
       "    }\n",
       "\n",
       "    .dataframe thead th {\n",
       "        text-align: right;\n",
       "    }\n",
       "</style>\n",
       "<table border=\"1\" class=\"dataframe\">\n",
       "  <thead>\n",
       "    <tr style=\"text-align: right;\">\n",
       "      <th></th>\n",
       "      <th>id_cliente</th>\n",
       "      <th>email</th>\n",
       "      <th>telefone</th>\n",
       "      <th>endereço</th>\n",
       "      <th>numero</th>\n",
       "      <th>name_customer</th>\n",
       "    </tr>\n",
       "  </thead>\n",
       "  <tbody>\n",
       "    <tr>\n",
       "      <th>0</th>\n",
       "      <td>1</td>\n",
       "      <td>joao.silva@email.com</td>\n",
       "      <td>(11) 1234-5678</td>\n",
       "      <td>Rua das Flores</td>\n",
       "      <td>123</td>\n",
       "      <td>João Silva</td>\n",
       "    </tr>\n",
       "  </tbody>\n",
       "</table>\n",
       "</div>"
      ],
      "text/plain": [
       "   id_cliente                 email        telefone        endereço  numero  \\\n",
       "0           1  joao.silva@email.com  (11) 1234-5678  Rua das Flores     123   \n",
       "\n",
       "  name_customer  \n",
       "0    João Silva  "
      ]
     },
     "execution_count": 27,
     "metadata": {},
     "output_type": "execute_result"
    }
   ],
   "source": [
    "# Removendo as colunas originais 'nome' e 'sobrenome' \n",
    "customer.drop(columns=['nome', 'sobrenome'], inplace=True)\n",
    "\n",
    "#validando alteração\n",
    "customer.head(1)"
   ]
  },
  {
   "cell_type": "code",
   "execution_count": 28,
   "id": "0170ca30-c4a8-45ef-b791-881bfb5ee5ea",
   "metadata": {},
   "outputs": [],
   "source": [
    "# Renomeando colunas para inglês\n",
    "customer.rename(columns={\n",
    "    'id_cliente': 'customer_id',\n",
    "    'email': 'email',\n",
    "    'telefone': 'phone',\n",
    "    'endereço': 'address',\n",
    "    'numero': 'number',\n",
    "    'name_customer': 'name_customer'\n",
    "}, inplace=True)"
   ]
  },
  {
   "cell_type": "code",
   "execution_count": 29,
   "id": "854a6af9-5837-40b0-a4cd-65c4d8c46098",
   "metadata": {},
   "outputs": [
    {
     "data": {
      "text/html": [
       "<div>\n",
       "<style scoped>\n",
       "    .dataframe tbody tr th:only-of-type {\n",
       "        vertical-align: middle;\n",
       "    }\n",
       "\n",
       "    .dataframe tbody tr th {\n",
       "        vertical-align: top;\n",
       "    }\n",
       "\n",
       "    .dataframe thead th {\n",
       "        text-align: right;\n",
       "    }\n",
       "</style>\n",
       "<table border=\"1\" class=\"dataframe\">\n",
       "  <thead>\n",
       "    <tr style=\"text-align: right;\">\n",
       "      <th></th>\n",
       "      <th>customer_id</th>\n",
       "      <th>email</th>\n",
       "      <th>phone</th>\n",
       "      <th>address</th>\n",
       "      <th>number</th>\n",
       "      <th>name_customer</th>\n",
       "    </tr>\n",
       "  </thead>\n",
       "  <tbody>\n",
       "    <tr>\n",
       "      <th>0</th>\n",
       "      <td>1</td>\n",
       "      <td>joao.silva@email.com</td>\n",
       "      <td>(11) 1234-5678</td>\n",
       "      <td>Rua das Flores</td>\n",
       "      <td>123</td>\n",
       "      <td>João Silva</td>\n",
       "    </tr>\n",
       "    <tr>\n",
       "      <th>1</th>\n",
       "      <td>2</td>\n",
       "      <td>maria.santos@email.com</td>\n",
       "      <td>(11) 2345-6789</td>\n",
       "      <td>Avenida Principal</td>\n",
       "      <td>456</td>\n",
       "      <td>Maria Santos</td>\n",
       "    </tr>\n",
       "    <tr>\n",
       "      <th>2</th>\n",
       "      <td>3</td>\n",
       "      <td>carlos.rocha@email.com</td>\n",
       "      <td>(11) 3456-7890</td>\n",
       "      <td>Travessa das Árvores</td>\n",
       "      <td>789</td>\n",
       "      <td>Carlos Rocha</td>\n",
       "    </tr>\n",
       "    <tr>\n",
       "      <th>3</th>\n",
       "      <td>4</td>\n",
       "      <td>ana.costa@email.com</td>\n",
       "      <td>(11) 4567-8901</td>\n",
       "      <td>Rua dos Passarinhos</td>\n",
       "      <td>987</td>\n",
       "      <td>Ana Costa</td>\n",
       "    </tr>\n",
       "    <tr>\n",
       "      <th>4</th>\n",
       "      <td>5</td>\n",
       "      <td>luiz.oliveira@email.com</td>\n",
       "      <td>(11) 5678-9012</td>\n",
       "      <td>Alameda das Rosas</td>\n",
       "      <td>654</td>\n",
       "      <td>Luiz Oliveira</td>\n",
       "    </tr>\n",
       "  </tbody>\n",
       "</table>\n",
       "</div>"
      ],
      "text/plain": [
       "   customer_id                    email           phone               address  \\\n",
       "0            1     joao.silva@email.com  (11) 1234-5678        Rua das Flores   \n",
       "1            2   maria.santos@email.com  (11) 2345-6789     Avenida Principal   \n",
       "2            3   carlos.rocha@email.com  (11) 3456-7890  Travessa das Árvores   \n",
       "3            4      ana.costa@email.com  (11) 4567-8901   Rua dos Passarinhos   \n",
       "4            5  luiz.oliveira@email.com  (11) 5678-9012     Alameda das Rosas   \n",
       "\n",
       "   number  name_customer  \n",
       "0     123     João Silva  \n",
       "1     456   Maria Santos  \n",
       "2     789   Carlos Rocha  \n",
       "3     987      Ana Costa  \n",
       "4     654  Luiz Oliveira  "
      ]
     },
     "execution_count": 29,
     "metadata": {},
     "output_type": "execute_result"
    }
   ],
   "source": [
    "#validando nomes das colunas\n",
    "customer.head()"
   ]
  },
  {
   "cell_type": "markdown",
   "id": "3ee3cc83-08b2-4cdc-9bca-6a8dfce8aefb",
   "metadata": {},
   "source": [
    "### 2.0.2 Combinando tabelas\n",
    ">* Para unir as tabelas faremos junção do tipo 'inner join' que retorna apenas as linhas onde há correspondência em ambas as tabelas,  isso significa que só serão incluídas as vendas para as quais há informações de cliente correspondentes."
   ]
  },
  {
   "cell_type": "code",
   "execution_count": 30,
   "id": "843c7d0d-13a7-4785-ad6c-a2bad4888f76",
   "metadata": {},
   "outputs": [],
   "source": [
    "# Combinando as tabelas usando a chave 'customer_id', chamaremos a nova tabela de 'sales_analytics'\n",
    "sales_analytics = pd.merge(sales, customer, on='customer_id', how='inner')"
   ]
  },
  {
   "cell_type": "code",
   "execution_count": 31,
   "id": "50684518-0b2b-4e22-91f4-8c4200f28733",
   "metadata": {},
   "outputs": [
    {
     "data": {
      "text/html": [
       "<div>\n",
       "<style scoped>\n",
       "    .dataframe tbody tr th:only-of-type {\n",
       "        vertical-align: middle;\n",
       "    }\n",
       "\n",
       "    .dataframe tbody tr th {\n",
       "        vertical-align: top;\n",
       "    }\n",
       "\n",
       "    .dataframe thead th {\n",
       "        text-align: right;\n",
       "    }\n",
       "</style>\n",
       "<table border=\"1\" class=\"dataframe\">\n",
       "  <thead>\n",
       "    <tr style=\"text-align: right;\">\n",
       "      <th></th>\n",
       "      <th>order_id</th>\n",
       "      <th>product_name</th>\n",
       "      <th>quantity</th>\n",
       "      <th>unit_price</th>\n",
       "      <th>customer_id</th>\n",
       "      <th>order_date</th>\n",
       "      <th>total_revenue</th>\n",
       "      <th>month</th>\n",
       "      <th>year</th>\n",
       "      <th>day</th>\n",
       "      <th>email</th>\n",
       "      <th>phone</th>\n",
       "      <th>address</th>\n",
       "      <th>number</th>\n",
       "      <th>name_customer</th>\n",
       "    </tr>\n",
       "  </thead>\n",
       "  <tbody>\n",
       "    <tr>\n",
       "      <th>0</th>\n",
       "      <td>1</td>\n",
       "      <td>Produto A</td>\n",
       "      <td>3</td>\n",
       "      <td>25</td>\n",
       "      <td>74</td>\n",
       "      <td>2024-03-01</td>\n",
       "      <td>75</td>\n",
       "      <td>3</td>\n",
       "      <td>2024</td>\n",
       "      <td>1</td>\n",
       "      <td>diego.souza@email.com</td>\n",
       "      <td>(11) 4567-8901</td>\n",
       "      <td>Rua dos Girassóis</td>\n",
       "      <td>654</td>\n",
       "      <td>Diego Souza</td>\n",
       "    </tr>\n",
       "    <tr>\n",
       "      <th>1</th>\n",
       "      <td>2</td>\n",
       "      <td>Produto B</td>\n",
       "      <td>2</td>\n",
       "      <td>30</td>\n",
       "      <td>36</td>\n",
       "      <td>2024-03-02</td>\n",
       "      <td>60</td>\n",
       "      <td>3</td>\n",
       "      <td>2024</td>\n",
       "      <td>2</td>\n",
       "      <td>isabela.rodrigues@email.com</td>\n",
       "      <td>(11) 6789-0123</td>\n",
       "      <td>Quadra 5</td>\n",
       "      <td>321</td>\n",
       "      <td>Isabela Rodrigues</td>\n",
       "    </tr>\n",
       "    <tr>\n",
       "      <th>2</th>\n",
       "      <td>26</td>\n",
       "      <td>Produto A</td>\n",
       "      <td>4</td>\n",
       "      <td>25</td>\n",
       "      <td>36</td>\n",
       "      <td>2024-03-26</td>\n",
       "      <td>100</td>\n",
       "      <td>3</td>\n",
       "      <td>2024</td>\n",
       "      <td>26</td>\n",
       "      <td>isabela.rodrigues@email.com</td>\n",
       "      <td>(11) 6789-0123</td>\n",
       "      <td>Quadra 5</td>\n",
       "      <td>321</td>\n",
       "      <td>Isabela Rodrigues</td>\n",
       "    </tr>\n",
       "    <tr>\n",
       "      <th>3</th>\n",
       "      <td>3</td>\n",
       "      <td>Produto C</td>\n",
       "      <td>1</td>\n",
       "      <td>20</td>\n",
       "      <td>12</td>\n",
       "      <td>2024-03-03</td>\n",
       "      <td>20</td>\n",
       "      <td>3</td>\n",
       "      <td>2024</td>\n",
       "      <td>3</td>\n",
       "      <td>beatriz.martins@email.com</td>\n",
       "      <td>(11) 2345-6789</td>\n",
       "      <td>Avenida dos Lírios</td>\n",
       "      <td>987</td>\n",
       "      <td>Beatriz Martins</td>\n",
       "    </tr>\n",
       "    <tr>\n",
       "      <th>4</th>\n",
       "      <td>15</td>\n",
       "      <td>Produto B</td>\n",
       "      <td>4</td>\n",
       "      <td>30</td>\n",
       "      <td>12</td>\n",
       "      <td>2024-03-15</td>\n",
       "      <td>120</td>\n",
       "      <td>3</td>\n",
       "      <td>2024</td>\n",
       "      <td>15</td>\n",
       "      <td>beatriz.martins@email.com</td>\n",
       "      <td>(11) 2345-6789</td>\n",
       "      <td>Avenida dos Lírios</td>\n",
       "      <td>987</td>\n",
       "      <td>Beatriz Martins</td>\n",
       "    </tr>\n",
       "  </tbody>\n",
       "</table>\n",
       "</div>"
      ],
      "text/plain": [
       "   order_id product_name  quantity  unit_price  customer_id order_date  \\\n",
       "0         1    Produto A         3          25           74 2024-03-01   \n",
       "1         2    Produto B         2          30           36 2024-03-02   \n",
       "2        26    Produto A         4          25           36 2024-03-26   \n",
       "3         3    Produto C         1          20           12 2024-03-03   \n",
       "4        15    Produto B         4          30           12 2024-03-15   \n",
       "\n",
       "   total_revenue  month  year  day                        email  \\\n",
       "0             75      3  2024    1        diego.souza@email.com   \n",
       "1             60      3  2024    2  isabela.rodrigues@email.com   \n",
       "2            100      3  2024   26  isabela.rodrigues@email.com   \n",
       "3             20      3  2024    3    beatriz.martins@email.com   \n",
       "4            120      3  2024   15    beatriz.martins@email.com   \n",
       "\n",
       "            phone             address  number      name_customer  \n",
       "0  (11) 4567-8901   Rua dos Girassóis     654        Diego Souza  \n",
       "1  (11) 6789-0123            Quadra 5     321  Isabela Rodrigues  \n",
       "2  (11) 6789-0123            Quadra 5     321  Isabela Rodrigues  \n",
       "3  (11) 2345-6789  Avenida dos Lírios     987    Beatriz Martins  \n",
       "4  (11) 2345-6789  Avenida dos Lírios     987    Beatriz Martins  "
      ]
     },
     "execution_count": 31,
     "metadata": {},
     "output_type": "execute_result"
    }
   ],
   "source": [
    "# Visualizando resultado do join\n",
    "sales_analytics.head()"
   ]
  },
  {
   "cell_type": "code",
   "execution_count": 32,
   "id": "7d6de0e3-53c6-4ccb-b5e1-4591316827c6",
   "metadata": {},
   "outputs": [
    {
     "name": "stdout",
     "output_type": "stream",
     "text": [
      "<class 'pandas.core.frame.DataFrame'>\n",
      "RangeIndex: 100 entries, 0 to 99\n",
      "Data columns (total 15 columns):\n",
      " #   Column         Non-Null Count  Dtype         \n",
      "---  ------         --------------  -----         \n",
      " 0   order_id       100 non-null    int64         \n",
      " 1   product_name   100 non-null    object        \n",
      " 2   quantity       100 non-null    int64         \n",
      " 3   unit_price     100 non-null    int64         \n",
      " 4   customer_id    100 non-null    int64         \n",
      " 5   order_date     100 non-null    datetime64[ns]\n",
      " 6   total_revenue  100 non-null    int64         \n",
      " 7   month          100 non-null    int32         \n",
      " 8   year           100 non-null    int32         \n",
      " 9   day            100 non-null    int32         \n",
      " 10  email          100 non-null    object        \n",
      " 11  phone          100 non-null    object        \n",
      " 12  address        100 non-null    object        \n",
      " 13  number         100 non-null    int64         \n",
      " 14  name_customer  100 non-null    object        \n",
      "dtypes: datetime64[ns](1), int32(3), int64(6), object(5)\n",
      "memory usage: 10.7+ KB\n"
     ]
    }
   ],
   "source": [
    "#  Verificando se o número de colunas faz sentido\n",
    "sales_analytics.info()"
   ]
  },
  {
   "cell_type": "code",
   "execution_count": 33,
   "id": "8e2296a6-33ed-4740-889e-a4e4c0f4b02b",
   "metadata": {},
   "outputs": [
    {
     "name": "stdout",
     "output_type": "stream",
     "text": [
      "\n",
      "Todos os IDs de Clientes nos Dados de Vendas têm correspondência nos Dados de Clientes.\n"
     ]
    }
   ],
   "source": [
    "# Verificando correspondências de 'cliente_id'\n",
    "\n",
    "missing_customers = sales[~sales['customer_id'].isin(customer['customer_id'])]\n",
    "\n",
    "if not missing_customers.empty:\n",
    "    print(\"\\nIDs de Clientes nos Dados de Vendas que não têm correspondência nos Dados de Clientes:\")\n",
    "    print(missing_customers)\n",
    "else:\n",
    "    print(\"\\nTodos os IDs de Clientes nos Dados de Vendas têm correspondência nos Dados de Clientes.\")\n"
   ]
  },
  {
   "cell_type": "code",
   "execution_count": 34,
   "id": "bee5243f-eedf-406e-8f62-a4639f5b2cdb",
   "metadata": {},
   "outputs": [
    {
     "name": "stdout",
     "output_type": "stream",
     "text": [
      "\n",
      "Valores Nulos em Colunas Críticas:\n",
      "order_id         0\n",
      "product_name     0\n",
      "quantity         0\n",
      "unit_price       0\n",
      "customer_id      0\n",
      "order_date       0\n",
      "total_revenue    0\n",
      "month            0\n",
      "year             0\n",
      "day              0\n",
      "email            0\n",
      "phone            0\n",
      "address          0\n",
      "number           0\n",
      "name_customer    0\n",
      "dtype: int64\n"
     ]
    }
   ],
   "source": [
    "# Verificando se há valores nulos em colunas críticas\n",
    "\n",
    "# Definindo colunas críticas\n",
    "critical_columns = ['order_id', 'product_name', 'quantity', 'unit_price', 'customer_id',\n",
    "       'order_date', 'total_revenue', 'month', 'year', 'day', 'email', 'phone',\n",
    "       'address', 'number', 'name_customer']\n",
    "\n",
    "# Valindando se há valores ausentes nas colunas críticas\n",
    "null_values = sales_analytics[critical_columns].isnull().sum()\n",
    "print(\"\\nValores Nulos em Colunas Críticas:\")\n",
    "print(null_values)"
   ]
  },
  {
   "cell_type": "code",
   "execution_count": 35,
   "id": "ccc8e591-826d-4cd0-bfac-459f6f1a5abb",
   "metadata": {},
   "outputs": [
    {
     "name": "stdout",
     "output_type": "stream",
     "text": [
      "Número de 'order_id' Duplicados: 0\n"
     ]
    }
   ],
   "source": [
    "# Validando ausência de duplicidades atraves da coluna order_id\n",
    "\n",
    "duplicates_order_id = sales_analytics.duplicated(subset='order_id')\n",
    "num_duplicates_order_id = duplicates_order_id.sum()\n",
    "print(f\"Número de 'order_id' Duplicados: {num_duplicates_order_id}\")\n"
   ]
  },
  {
   "cell_type": "markdown",
   "id": "3d120739-a911-4060-8f98-a21d53cb45e6",
   "metadata": {},
   "source": [
    "#### OBSERVAÇÃO\n",
    "\n",
    "* A Validação da correspondência atraves da coluna customer_id mostra que a cobinação entre as tabelas foi efetuada com sucesso.\n",
    "  \n",
    "* A integridade dos dados permanece consistente, visto que o join não gerou nenhum valor ausente\n",
    "\n",
    "* Não foram geradas nenhuma duplicidades nos registros após efetuado o 'join'."
   ]
  },
  {
   "cell_type": "markdown",
   "id": "528c85c2-a3f1-48b6-acfb-c8bfd53b9e18",
   "metadata": {},
   "source": [
    "# 3.0 Visualização de Dados\n",
    ">## ETAPA 3"
   ]
  },
  {
   "cell_type": "markdown",
   "id": "68e68450-21d9-414d-87af-4b0c63fe3191",
   "metadata": {},
   "source": [
    "### 3.0.1 Visulização das Tabelas\n",
    "\n",
    ">* Nosso Objetivo nesta etapa será validar Isights gerados durante a etapa de exploração de dados.\n",
    "\n",
    ">* Vamos utilizar gráficos para validar nossos Insghts de maneira visual e de facil entendimento.\n",
    "\n",
    "\n",
    ">> ### Insights Gerados anteriormente:\n",
    "\n",
    ">>* A Média de Receita total das vendas é 66.4. O valor máximo em vendas foi 120 e o minimo foi 20, o que condiz com o produto de menor valor disponível.\n",
    "\n",
    ">>* A Média de Preços unitarios dos produtos é de 28.6. Já o valor minimo é 20 e o máximo é de 40 o que pode indicar uma variação significativa nos preços dos produtos, indicando uma gama diversificada de produtos com diferentes faixas de preço.\n",
    "\n",
    ">>* Todas as datas de pedidos estão dentro do intervalo esperado (ano de 2024), o que indica que os dados de datas são consistentes e apropriados.\n"
   ]
  },
  {
   "cell_type": "markdown",
   "id": "ad12b340-1708-4b3b-b777-fd794fa70733",
   "metadata": {},
   "source": [
    "## 3.0.2 Validando Insights"
   ]
  },
  {
   "cell_type": "markdown",
   "id": "ec938ccd-f96d-4044-a445-c0063bd0c040",
   "metadata": {},
   "source": [
    "### Insight 1:\n",
    "> * A Média de Receita total das vendas é 66.4. O valor máximo em vendas foi 120 e o minimo foi 20, o que condiz com o produto de menor valor disponível."
   ]
  },
  {
   "cell_type": "code",
   "execution_count": 75,
   "id": "88ebe203-953d-4614-b481-51e276627227",
   "metadata": {},
   "outputs": [
    {
     "data": {
      "image/png": "[encoded data removed]",
      "text/plain": [
       "<Figure size 1000x600 with 1 Axes>"
      ]
     },
     "metadata": {},
     "output_type": "display_data"
    }
   ],
   "source": [
    "# Define a média do total de vendas\n",
    "mean_total_revenue = sales_analytics['total_revenue'].mean()\n",
    "\n",
    "# Gera gráfico que mostra a qualtide de vendas total\n",
    "plt.figure(figsize=(10, 6))\n",
    "sns.histplot(sales_analytics['total_revenue'], bins=range(20, 125, 10), kde=True)\n",
    "plt.axvline(mean_total_revenue, color='red', linestyle='--', linewidth=2, label=f'Média: {mean_total_revenue:.2f}')\n",
    "plt.title('Distribuição da Receita Total das Vendas')\n",
    "plt.xlabel('Receita Total')\n",
    "plt.ylabel('Frequência')\n",
    "plt.legend()\n",
    "plt.show()"
   ]
  },
  {
   "cell_type": "markdown",
   "id": "e88b8053-342a-4ee8-afb5-76492d355a94",
   "metadata": {},
   "source": [
    "### Insght 1: Correto, o grafico valida o valor 20 para valor minimo de vendas e 120 para valor máximo. També é possivel notar que a média está em 66.45 "
   ]
  },
  {
   "cell_type": "markdown",
   "id": "73cd4a76-4de5-44e4-8f46-76ef37aa4eed",
   "metadata": {},
   "source": [
    "### Insight 2:\n",
    "\n",
    "> * A Média de Preços unitarios dos produtos é de 28.6. Já o valor minimo é 20 e o máximo é de 40. O que pode indicar uma variação significativa nos preços dos produtos, indicando uma gama diversificada de produtos com diferentes faixas de preço"
   ]
  },
  {
   "cell_type": "code",
   "execution_count": 74,
   "id": "b2a8ca9e-3ce3-4c77-ac23-706045dd1523",
   "metadata": {},
   "outputs": [
    {
     "data": {
      "image/png": "[encoded data removed]",
      "text/plain": [
       "<Figure size 1000x600 with 1 Axes>"
      ]
     },
     "metadata": {},
     "output_type": "display_data"
    }
   ],
   "source": [
    "\n",
    "# Definindo média de valores unitarios\n",
    "mean_unit_price = sales_analytics['unit_price'].mean()\n",
    "\n",
    "# Gerando gráfico que mostra valores unicos com a média\n",
    "plt.figure(figsize=(10, 6))\n",
    "sns.histplot(sales_analytics['unit_price'], bins=range(20, 45, 5), kde=True)\n",
    "plt.axvline(mean_unit_price, color='red', linestyle='--', linewidth=2, label=f'Média: {mean_unit_price:.2f}')\n",
    "plt.title('Distribuição de Preços dos Produtos')\n",
    "plt.xlabel('Preço Unitário')\n",
    "plt.ylabel('Frequência')\n",
    "plt.legend()\n",
    "plt.show()"
   ]
  },
  {
   "cell_type": "markdown",
   "id": "c289fc79-f52b-4d5e-9609-1a7989b70fe6",
   "metadata": {},
   "source": [
    "### Insght 2: Correto, o gráfico mostra que os preço unitários varim entre 20 e 40, com média de 28.6."
   ]
  },
  {
   "cell_type": "markdown",
   "id": "54766c9d-7bef-45aa-9757-420c197653bc",
   "metadata": {},
   "source": [
    "### Insight 3:\n",
    "> * Todas as datas de pedidos estão dentro do intervalo esperado (ano de 2024), o que indica que os dados de datas são consistentes e apropriados."
   ]
  },
  {
   "cell_type": "code",
   "execution_count": 76,
   "id": "d90cf656-bd2a-4343-83dd-e7297ab556a5",
   "metadata": {},
   "outputs": [
    {
     "data": {
      "text/html": [
       "<div>\n",
       "<style scoped>\n",
       "    .dataframe tbody tr th:only-of-type {\n",
       "        vertical-align: middle;\n",
       "    }\n",
       "\n",
       "    .dataframe tbody tr th {\n",
       "        vertical-align: top;\n",
       "    }\n",
       "\n",
       "    .dataframe thead th {\n",
       "        text-align: right;\n",
       "    }\n",
       "</style>\n",
       "<table border=\"1\" class=\"dataframe\">\n",
       "  <thead>\n",
       "    <tr style=\"text-align: right;\">\n",
       "      <th></th>\n",
       "      <th>count</th>\n",
       "      <th>mean</th>\n",
       "      <th>min</th>\n",
       "      <th>25%</th>\n",
       "      <th>50%</th>\n",
       "      <th>75%</th>\n",
       "      <th>max</th>\n",
       "      <th>std</th>\n",
       "    </tr>\n",
       "  </thead>\n",
       "  <tbody>\n",
       "    <tr>\n",
       "      <th>order_id</th>\n",
       "      <td>100.0</td>\n",
       "      <td>50.5</td>\n",
       "      <td>1.0</td>\n",
       "      <td>25.75</td>\n",
       "      <td>50.5</td>\n",
       "      <td>75.25</td>\n",
       "      <td>100.0</td>\n",
       "      <td>29.011492</td>\n",
       "    </tr>\n",
       "    <tr>\n",
       "      <th>quantity</th>\n",
       "      <td>100.0</td>\n",
       "      <td>2.34</td>\n",
       "      <td>1.0</td>\n",
       "      <td>2.0</td>\n",
       "      <td>2.0</td>\n",
       "      <td>3.0</td>\n",
       "      <td>4.0</td>\n",
       "      <td>0.976698</td>\n",
       "    </tr>\n",
       "    <tr>\n",
       "      <th>unit_price</th>\n",
       "      <td>100.0</td>\n",
       "      <td>28.6</td>\n",
       "      <td>20.0</td>\n",
       "      <td>23.75</td>\n",
       "      <td>25.0</td>\n",
       "      <td>30.0</td>\n",
       "      <td>40.0</td>\n",
       "      <td>7.353965</td>\n",
       "    </tr>\n",
       "    <tr>\n",
       "      <th>customer_id</th>\n",
       "      <td>100.0</td>\n",
       "      <td>49.12</td>\n",
       "      <td>1.0</td>\n",
       "      <td>25.5</td>\n",
       "      <td>49.5</td>\n",
       "      <td>76.0</td>\n",
       "      <td>100.0</td>\n",
       "      <td>29.403594</td>\n",
       "    </tr>\n",
       "    <tr>\n",
       "      <th>order_date</th>\n",
       "      <td>100</td>\n",
       "      <td>2024-04-19 12:00:00</td>\n",
       "      <td>2024-03-01 00:00:00</td>\n",
       "      <td>2024-03-25 18:00:00</td>\n",
       "      <td>2024-04-19 12:00:00</td>\n",
       "      <td>2024-05-14 06:00:00</td>\n",
       "      <td>2024-06-08 00:00:00</td>\n",
       "      <td>NaN</td>\n",
       "    </tr>\n",
       "    <tr>\n",
       "      <th>total_revenue</th>\n",
       "      <td>100.0</td>\n",
       "      <td>66.45</td>\n",
       "      <td>20.0</td>\n",
       "      <td>40.0</td>\n",
       "      <td>60.0</td>\n",
       "      <td>82.5</td>\n",
       "      <td>120.0</td>\n",
       "      <td>31.126128</td>\n",
       "    </tr>\n",
       "    <tr>\n",
       "      <th>month</th>\n",
       "      <td>100.0</td>\n",
       "      <td>4.16</td>\n",
       "      <td>3.0</td>\n",
       "      <td>3.0</td>\n",
       "      <td>4.0</td>\n",
       "      <td>5.0</td>\n",
       "      <td>6.0</td>\n",
       "      <td>0.96106</td>\n",
       "    </tr>\n",
       "    <tr>\n",
       "      <th>year</th>\n",
       "      <td>100.0</td>\n",
       "      <td>2024.0</td>\n",
       "      <td>2024.0</td>\n",
       "      <td>2024.0</td>\n",
       "      <td>2024.0</td>\n",
       "      <td>2024.0</td>\n",
       "      <td>2024.0</td>\n",
       "      <td>0.0</td>\n",
       "    </tr>\n",
       "    <tr>\n",
       "      <th>day</th>\n",
       "      <td>100.0</td>\n",
       "      <td>14.93</td>\n",
       "      <td>1.0</td>\n",
       "      <td>7.0</td>\n",
       "      <td>14.5</td>\n",
       "      <td>23.0</td>\n",
       "      <td>31.0</td>\n",
       "      <td>9.101288</td>\n",
       "    </tr>\n",
       "    <tr>\n",
       "      <th>number</th>\n",
       "      <td>100.0</td>\n",
       "      <td>648.78</td>\n",
       "      <td>123.0</td>\n",
       "      <td>321.0</td>\n",
       "      <td>654.0</td>\n",
       "      <td>987.0</td>\n",
       "      <td>987.0</td>\n",
       "      <td>281.067646</td>\n",
       "    </tr>\n",
       "  </tbody>\n",
       "</table>\n",
       "</div>"
      ],
      "text/plain": [
       "               count                 mean                  min  \\\n",
       "order_id       100.0                 50.5                  1.0   \n",
       "quantity       100.0                 2.34                  1.0   \n",
       "unit_price     100.0                 28.6                 20.0   \n",
       "customer_id    100.0                49.12                  1.0   \n",
       "order_date       100  2024-04-19 12:00:00  2024-03-01 00:00:00   \n",
       "total_revenue  100.0                66.45                 20.0   \n",
       "month          100.0                 4.16                  3.0   \n",
       "year           100.0               2024.0               2024.0   \n",
       "day            100.0                14.93                  1.0   \n",
       "number         100.0               648.78                123.0   \n",
       "\n",
       "                               25%                  50%                  75%  \\\n",
       "order_id                     25.75                 50.5                75.25   \n",
       "quantity                       2.0                  2.0                  3.0   \n",
       "unit_price                   23.75                 25.0                 30.0   \n",
       "customer_id                   25.5                 49.5                 76.0   \n",
       "order_date     2024-03-25 18:00:00  2024-04-19 12:00:00  2024-05-14 06:00:00   \n",
       "total_revenue                 40.0                 60.0                 82.5   \n",
       "month                          3.0                  4.0                  5.0   \n",
       "year                        2024.0               2024.0               2024.0   \n",
       "day                            7.0                 14.5                 23.0   \n",
       "number                       321.0                654.0                987.0   \n",
       "\n",
       "                               max         std  \n",
       "order_id                     100.0   29.011492  \n",
       "quantity                       4.0    0.976698  \n",
       "unit_price                    40.0    7.353965  \n",
       "customer_id                  100.0   29.403594  \n",
       "order_date     2024-06-08 00:00:00         NaN  \n",
       "total_revenue                120.0   31.126128  \n",
       "month                          6.0     0.96106  \n",
       "year                        2024.0         0.0  \n",
       "day                           31.0    9.101288  \n",
       "number                       987.0  281.067646  "
      ]
     },
     "execution_count": 76,
     "metadata": {},
     "output_type": "execute_result"
    }
   ],
   "source": [
    "# Filtrando somente os dados de 2024\n",
    "sales_2024 = sales_analytics[sales_analytics['year'] == 2024]\n",
    "\n",
    "# Descrição dos dados de 2024\n",
    "sales_2024.describe().T"
   ]
  },
  {
   "cell_type": "markdown",
   "id": "29a19c28-d5a6-43de-9f5e-6d3306d2f770",
   "metadata": {},
   "source": [
    "### Insght 3: Correto, a tabela descritiva valida que a quantidade pedidos máxima foi 100 'order_id' e que a quantidade máxima de receita total foi 120, assim como descrito no insight numero 1."
   ]
  },
  {
   "cell_type": "markdown",
   "id": "169afeb1-82c4-4e8e-8124-7789f2295670",
   "metadata": {},
   "source": [
    "# 4.0 Banco de Dados\n",
    ">## ETAPA 4"
   ]
  },
  {
   "cell_type": "markdown",
   "id": "43587a1f-cd1e-499d-9f7b-beb8635a98e0",
   "metadata": {},
   "source": [
    "### 4.0.1 Visulização das Tabelas\n",
    "\n",
    ">* Nosso Objetivo nesta etapa será responder 2 perguntas de negocios atraves da tabelas 'sales_anaalytics'\n",
    ">* Para isso iremos nos conectar localmente ao bando de dados relacional MySQL e efetuar a carga dos dados.\n",
    ">* Feito isso, vamos utilizar a interface do Mysql WorkBench como SGBD para realizar nossas consultas e respoder nossas perguntas.\n",
    "\n",
    ">> ### Perguntas a serem respondidas:\n",
    "    >> * Qual o valor máximo vendido por mês durante o ano de 2024?\n",
    "    >> * Quais foram os produtos mais vendidos durante o primeiro semestre de 2024?"
   ]
  },
  {
   "cell_type": "markdown",
   "id": "f9cc46aa-fae9-4ccf-9f26-ccf6813bf9c4",
   "metadata": {},
   "source": [
    "### 4.0.2 Conectando ao Mysql"
   ]
  },
  {
   "cell_type": "code",
   "execution_count": 79,
   "id": "25ad4b98-4e4b-437d-9fbf-4b219ce21732",
   "metadata": {},
   "outputs": [],
   "source": [
    "# Dados de conexão\n",
    "user = 'root'\n",
    "password = '589619'\n",
    "host = 'localhost'\n",
    "port = '3306'\n",
    "database = 'analytics'"
   ]
  },
  {
   "cell_type": "code",
   "execution_count": 80,
   "id": "4c985ed9-9f78-44fb-b77b-57bd1c1a9578",
   "metadata": {},
   "outputs": [],
   "source": [
    "# Criação da conexão usando SQLAlchemy\n",
    "engine = create_engine(f'mysql+pymysql://{user}:{password}@{host}:{port}/{database}')"
   ]
  },
  {
   "cell_type": "code",
   "execution_count": 82,
   "id": "1a157e0b-1cf0-48e8-8d2a-f42a93da7bc0",
   "metadata": {},
   "outputs": [
    {
     "name": "stdout",
     "output_type": "stream",
     "text": [
      "Tabela carregada com sucesso no banco de dados MySQL\n"
     ]
    }
   ],
   "source": [
    "#Definindo tabela\n",
    "data = pd.DataFrame(sales_analytics)\n",
    "\n",
    "# Carregar a tabela Pandas no banco de dados MySQL\n",
    "# 'nome_da_tabela' é o nome da tabela onde os dados serão inseridos\n",
    "data.to_sql('fact_analytics', con=engine, if_exists='replace', index=False)\n",
    "\n",
    "# Mostra Resultado da Carga\n",
    "print(\"Tabela carregada com sucesso no banco de dados MySQL\")"
   ]
  },
  {
   "cell_type": "code",
   "execution_count": null,
   "id": "0e1fc096-66af-4f4b-8d08-75ed3dcfab9f",
   "metadata": {},
   "outputs": [],
   "source": []
  }
 ],
 "metadata": {
  "kernelspec": {
   "display_name": "Python 3 (ipykernel)",
   "language": "python",
   "name": "python3"
  },
  "language_info": {
   "codemirror_mode": {
    "name": "ipython",
    "version": 3
   },
   "file_extension": ".py",
   "mimetype": "text/x-python",
   "name": "python",
   "nbconvert_exporter": "python",
   "pygments_lexer": "ipython3",
   "version": "3.11.7"
  }
 },
 "nbformat": 4,
 "nbformat_minor": 5
}
